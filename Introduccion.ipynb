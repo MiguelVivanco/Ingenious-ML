{
 "cells": [
  {
   "cell_type": "markdown",
   "metadata": {},
   "source": [
    "## Artificial Intelligence\n",
    "\n",
    "Inteligencia artificial son técnicas que permite a una máquina imitar el comportamiento humano.\n",
    "Machine learning es un subconjunto de la inteligencia artificial en donde se entrena un modelo a partir de un conjunto de datos con el objetivo de tener una respuesta como toma de decisiones o predicciones, el usuario requiere de introducir las características para realizar el entrenamiento del modelo.\n",
    "Deep learning es un subconjunto de machine learning y se inspira en el comportamiento del cerebro humano, es decir, cuenta con nodos o neuronas, formando una red que busca realizar múltiples combinaciones para obtener diferentes resultados, de esta manera el usuario no requiere indicar al sistema las características del modelo."
   ]
  },
  {
   "cell_type": "code",
   "execution_count": null,
   "metadata": {},
   "outputs": [],
   "source": [
    "import numpy as np\n",
    "import matplotlib.pyplot as mp\n",
    "import pandas as pd"
   ]
  }
 ],
 "metadata": {
  "language_info": {
   "name": "python"
  },
  "orig_nbformat": 4
 },
 "nbformat": 4,
 "nbformat_minor": 2
}
